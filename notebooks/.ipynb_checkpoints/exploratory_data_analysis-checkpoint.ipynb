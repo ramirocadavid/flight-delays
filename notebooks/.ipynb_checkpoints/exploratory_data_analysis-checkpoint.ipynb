{
 "cells": [
  {
   "cell_type": "markdown",
   "id": "e87af0eb-7563-4cae-b02b-601d1170c9ef",
   "metadata": {},
   "source": [
    "Import and union datasets"
   ]
  },
  {
   "cell_type": "code",
   "execution_count": 31,
   "id": "c0a771cb-17d4-4203-a450-98899ea66658",
   "metadata": {
    "execution": {
     "iopub.execute_input": "2022-09-15T16:23:09.822924Z",
     "iopub.status.busy": "2022-09-15T16:23:09.822663Z",
     "iopub.status.idle": "2022-09-15T16:23:31.170366Z",
     "shell.execute_reply": "2022-09-15T16:23:31.169811Z",
     "shell.execute_reply.started": "2022-09-15T16:23:09.822897Z"
    },
    "tags": []
   },
   "outputs": [
    {
     "data": {
      "application/vnd.jupyter.widget-view+json": {
       "model_id": "306ba573e2004f1f956aeaaf584bd348",
       "version_major": 2,
       "version_minor": 0
      },
      "text/plain": [
       "VBox()"
      ]
     },
     "metadata": {},
     "output_type": "display_data"
    },
    {
     "data": {
      "application/vnd.jupyter.widget-view+json": {
       "model_id": "",
       "version_major": 2,
       "version_minor": 0
      },
      "text/plain": [
       "FloatProgress(value=0.0, bar_style='info', description='Progress:', layout=Layout(height='25px', width='50%'),…"
      ]
     },
     "metadata": {},
     "output_type": "display_data"
    }
   ],
   "source": [
    "files_uri = \"s3://emr-studio-dependencies-emrstudiostoragebucket-9rt6x0kz3dg3/airline-data/\"\n",
    "\n",
    "flights20 = spark.read.csv(files_uri + \"2020.csv\", inferSchema=True, header=True)\n",
    "flights19 = spark.read.csv(files_uri + \"2019.csv\", inferSchema=True, header=True)\n",
    "\n",
    "flights = flights20.unionByName(flights19, allowMissingColumns=True)"
   ]
  },
  {
   "cell_type": "code",
   "execution_count": 29,
   "id": "23ab32a4-759e-42a3-973c-44ba78a20664",
   "metadata": {
    "execution": {
     "iopub.execute_input": "2022-09-15T15:48:28.998122Z",
     "iopub.status.busy": "2022-09-15T15:48:28.997884Z",
     "iopub.status.idle": "2022-09-15T15:48:29.775354Z",
     "shell.execute_reply": "2022-09-15T15:48:29.774631Z",
     "shell.execute_reply.started": "2022-09-15T15:48:28.998098Z"
    },
    "tags": []
   },
   "outputs": [
    {
     "data": {
      "application/vnd.jupyter.widget-view+json": {
       "model_id": "16b78b5674df43c4937dc9862410b2c3",
       "version_major": 2,
       "version_minor": 0
      },
      "text/plain": [
       "VBox()"
      ]
     },
     "metadata": {},
     "output_type": "display_data"
    },
    {
     "data": {
      "application/vnd.jupyter.widget-view+json": {
       "model_id": "",
       "version_major": 2,
       "version_minor": 0
      },
      "text/plain": [
       "FloatProgress(value=0.0, bar_style='info', description='Progress:', layout=Layout(height='25px', width='50%'),…"
      ]
     },
     "metadata": {},
     "output_type": "display_data"
    },
    {
     "name": "stdout",
     "output_type": "stream",
     "text": [
      "+----------+----------+-----------------+------+----+------------+--------+---------+--------+----------+---------+-------+------------+--------+---------+---------+-----------------+--------+----------------+-------------------+--------+--------+-------------+-------------+---------+--------------+-------------------+-----------+-----------------+----+\n",
      "|   FL_DATE|OP_CARRIER|OP_CARRIER_FL_NUM|ORIGIN|DEST|CRS_DEP_TIME|DEP_TIME|DEP_DELAY|TAXI_OUT|WHEELS_OFF|WHEELS_ON|TAXI_IN|CRS_ARR_TIME|ARR_TIME|ARR_DELAY|CANCELLED|CANCELLATION_CODE|DIVERTED|CRS_ELAPSED_TIME|ACTUAL_ELAPSED_TIME|AIR_TIME|DISTANCE|CARRIER_DELAY|WEATHER_DELAY|NAS_DELAY|SECURITY_DELAY|LATE_AIRCRAFT_DELAY|Unnamed: 27|OP_UNIQUE_CARRIER|_c20|\n",
      "+----------+----------+-----------------+------+----+------------+--------+---------+--------+----------+---------+-------+------------+--------+---------+---------+-----------------+--------+----------------+-------------------+--------+--------+-------------+-------------+---------+--------------+-------------------+-----------+-----------------+----+\n",
      "|2020-01-01|        WN|             5888|   ONT| SFO|        1851|    41.0|     44.0|  1935.0|      2049|      4.0| 2053.0|        68.0|    74.0|    363.0|      8.0|              0.0|    27.0|             0.0|               33.0|    null|    null|         null|         null|     null|          null|               null|       null|             null|null|\n",
      "|2020-01-01|        WN|             6276|   ONT| SFO|        1146|    -4.0|     13.0|  1159.0|      1310|      8.0| 1318.0|        -2.0|    71.0|    363.0|     null|             null|    null|            null|               null|    null|    null|         null|         null|     null|          null|               null|       null|             null|null|\n",
      "|2020-01-01|        WN|             4598|   ONT| SJC|        2016|    -4.0|      8.0|  2024.0|      2121|      3.0| 2124.0|        -6.0|    57.0|    333.0|     null|             null|    null|            null|               null|    null|    null|         null|         null|     null|          null|               null|       null|             null|null|\n",
      "|2020-01-01|        WN|             4761|   ONT| SJC|        1350|    10.0|     10.0|  1400.0|      1503|      2.0| 1505.0|        10.0|    63.0|    333.0|     null|             null|    null|            null|               null|    null|    null|         null|         null|     null|          null|               null|       null|             null|null|\n",
      "+----------+----------+-----------------+------+----+------------+--------+---------+--------+----------+---------+-------+------------+--------+---------+---------+-----------------+--------+----------------+-------------------+--------+--------+-------------+-------------+---------+--------------+-------------------+-----------+-----------------+----+\n",
      "only showing top 4 rows"
     ]
    }
   ],
   "source": [
    "flights.show(4)"
   ]
  },
  {
   "cell_type": "markdown",
   "id": "729fcef5-4687-48c0-b35d-a382f0a8bdb6",
   "metadata": {},
   "source": [
    "Print schema and sample of data"
   ]
  },
  {
   "cell_type": "code",
   "execution_count": 24,
   "id": "a5b166e4-6d1f-4ff0-9701-f3f85a33486f",
   "metadata": {
    "execution": {
     "iopub.execute_input": "2022-09-15T15:47:32.649585Z",
     "iopub.status.busy": "2022-09-15T15:47:32.649350Z",
     "iopub.status.idle": "2022-09-15T15:47:33.426034Z",
     "shell.execute_reply": "2022-09-15T15:47:33.425345Z",
     "shell.execute_reply.started": "2022-09-15T15:47:32.649559Z"
    },
    "tags": []
   },
   "outputs": [
    {
     "data": {
      "application/vnd.jupyter.widget-view+json": {
       "model_id": "ff9184d0d26e4127a8283af99ac0f6bc",
       "version_major": 2,
       "version_minor": 0
      },
      "text/plain": [
       "VBox()"
      ]
     },
     "metadata": {},
     "output_type": "display_data"
    },
    {
     "data": {
      "application/vnd.jupyter.widget-view+json": {
       "model_id": "",
       "version_major": 2,
       "version_minor": 0
      },
      "text/plain": [
       "FloatProgress(value=0.0, bar_style='info', description='Progress:', layout=Layout(height='25px', width='50%'),…"
      ]
     },
     "metadata": {},
     "output_type": "display_data"
    },
    {
     "name": "stdout",
     "output_type": "stream",
     "text": [
      "+----------+----------+-----------------+------+----+------------+--------+---------+--------+----------+---------+-------+------------+--------+---------+---------+-----------------+--------+----------------+-------------------+--------+--------+-------------+-------------+---------+--------------+-------------------+-----------+-----------------+----+\n",
      "|   FL_DATE|OP_CARRIER|OP_CARRIER_FL_NUM|ORIGIN|DEST|CRS_DEP_TIME|DEP_TIME|DEP_DELAY|TAXI_OUT|WHEELS_OFF|WHEELS_ON|TAXI_IN|CRS_ARR_TIME|ARR_TIME|ARR_DELAY|CANCELLED|CANCELLATION_CODE|DIVERTED|CRS_ELAPSED_TIME|ACTUAL_ELAPSED_TIME|AIR_TIME|DISTANCE|CARRIER_DELAY|WEATHER_DELAY|NAS_DELAY|SECURITY_DELAY|LATE_AIRCRAFT_DELAY|Unnamed: 27|OP_UNIQUE_CARRIER|_c20|\n",
      "+----------+----------+-----------------+------+----+------------+--------+---------+--------+----------+---------+-------+------------+--------+---------+---------+-----------------+--------+----------------+-------------------+--------+--------+-------------+-------------+---------+--------------+-------------------+-----------+-----------------+----+\n",
      "|2020-01-01|        WN|             5888|   ONT| SFO|        1851|    41.0|     44.0|  1935.0|      2049|      4.0| 2053.0|        68.0|    74.0|    363.0|      8.0|              0.0|    27.0|             0.0|               33.0|    null|    null|         null|         null|     null|          null|               null|       null|             null|null|\n",
      "|2020-01-01|        WN|             6276|   ONT| SFO|        1146|    -4.0|     13.0|  1159.0|      1310|      8.0| 1318.0|        -2.0|    71.0|    363.0|     null|             null|    null|            null|               null|    null|    null|         null|         null|     null|          null|               null|       null|             null|null|\n",
      "|2020-01-01|        WN|             4598|   ONT| SJC|        2016|    -4.0|      8.0|  2024.0|      2121|      3.0| 2124.0|        -6.0|    57.0|    333.0|     null|             null|    null|            null|               null|    null|    null|         null|         null|     null|          null|               null|       null|             null|null|\n",
      "|2020-01-01|        WN|             4761|   ONT| SJC|        1350|    10.0|     10.0|  1400.0|      1503|      2.0| 1505.0|        10.0|    63.0|    333.0|     null|             null|    null|            null|               null|    null|    null|         null|         null|     null|          null|               null|       null|             null|null|\n",
      "|2020-01-01|        WN|             5162|   ONT| SJC|         916|     1.0|      6.0|   922.0|      1019|      4.0| 1023.0|       -12.0|    57.0|    333.0|     null|             null|    null|            null|               null|    null|    null|         null|         null|     null|          null|               null|       null|             null|null|\n",
      "|2020-01-01|        WN|             5684|   ONT| SJC|         602|     2.0|     17.0|   619.0|       716|      6.0|  722.0|         7.0|    57.0|    333.0|     null|             null|    null|            null|               null|    null|    null|         null|         null|     null|          null|               null|       null|             null|null|\n",
      "|2020-01-01|        WN|             6152|   ONT| SJC|        1624|     4.0|      6.0|  1630.0|      1732|      4.0| 1736.0|        -4.0|    62.0|    333.0|     null|             null|    null|            null|               null|    null|    null|         null|         null|     null|          null|               null|       null|             null|null|\n",
      "|2020-01-01|        WN|             1679|   ONT| SMF|        1604|    59.0|      5.0|  1609.0|      1715|      2.0| 1717.0|        47.0|    66.0|    390.0|      0.0|              0.0|     0.0|             7.0|               40.0|    null|    null|         null|         null|     null|          null|               null|       null|             null|null|\n",
      "|2020-01-01|        WN|             3479|   ONT| SMF|        1225|    -5.0|      8.0|  1233.0|      1346|     19.0| 1405.0|        10.0|    73.0|    390.0|     null|             null|    null|            null|               null|    null|    null|         null|         null|     null|          null|               null|       null|             null|null|\n",
      "|2020-01-01|        WN|             4069|   ONT| SMF|         740|     0.0|      9.0|   749.0|       900|      4.0|  904.0|         4.0|    71.0|    390.0|     null|             null|    null|            null|               null|    null|    null|         null|         null|     null|          null|               null|       null|             null|null|\n",
      "|2020-01-01|        WN|             4905|   ONT| SMF|        1022|    -3.0|     11.0|  1033.0|      1144|      3.0| 1147.0|        -8.0|    71.0|    390.0|     null|             null|    null|            null|               null|    null|    null|         null|         null|     null|          null|               null|       null|             null|null|\n",
      "|2020-01-01|        WN|             4918|   ONT| SMF|        2035|    -5.0|      7.0|  2042.0|      2152|      5.0| 2157.0|         2.0|    70.0|    390.0|     null|             null|    null|            null|               null|    null|    null|         null|         null|     null|          null|               null|       null|             null|null|\n",
      "|2020-01-01|        WN|             5144|   ONT| SMF|        2246|    -4.0|     11.0|  2257.0|         3|      3.0|    6.0|         1.0|    66.0|    390.0|     null|             null|    null|            null|               null|    null|    null|         null|         null|     null|          null|               null|       null|             null|null|\n",
      "|2020-01-01|        WN|             5722|   ONT| SMF|        1815|     5.0|      6.0|  1821.0|      1926|      3.0| 1929.0|        -1.0|    65.0|    390.0|     null|             null|    null|            null|               null|    null|    null|         null|         null|     null|          null|               null|       null|             null|null|\n",
      "|2020-01-01|        WN|             3719|   ORF| BWI|        1230|    60.0|      8.0|  1238.0|      1314|      3.0| 1317.0|        42.0|    36.0|    159.0|      6.0|              0.0|     0.0|             0.0|               36.0|    null|    null|         null|         null|     null|          null|               null|       null|             null|null|\n",
      "|2020-01-01|        WN|             4863|   ORF| BWI|         629|    -1.0|      9.0|   638.0|       713|      2.0|  715.0|       -15.0|    35.0|    159.0|     null|             null|    null|            null|               null|    null|    null|         null|         null|     null|          null|               null|       null|             null|null|\n",
      "|2020-01-01|        WN|             4924|   ORF| BWI|        2013|    -7.0|      8.0|  2021.0|      2100|      2.0| 2102.0|       -18.0|    39.0|    159.0|     null|             null|    null|            null|               null|    null|    null|         null|         null|     null|          null|               null|       null|             null|null|\n",
      "|2020-01-01|        WN|             5321|   ORF| BWI|        1746|     1.0|     13.0|  1759.0|      1834|      4.0| 1838.0|       -17.0|    35.0|    159.0|     null|             null|    null|            null|               null|    null|    null|         null|         null|     null|          null|               null|       null|             null|null|\n",
      "|2020-01-01|        WN|             4618|   ORF| MCO|        1045|    -5.0|      8.0|  1053.0|      1234|      3.0| 1237.0|       -18.0|   101.0|    655.0|     null|             null|    null|            null|               null|    null|    null|         null|         null|     null|          null|               null|       null|             null|null|\n",
      "|2020-01-01|        WN|             5992|   ORF| MDW|        1649|    -1.0|      8.0|  1657.0|      1750|      4.0| 1754.0|       -16.0|   113.0|    704.0|     null|             null|    null|            null|               null|    null|    null|         null|         null|     null|          null|               null|       null|             null|null|\n",
      "+----------+----------+-----------------+------+----+------------+--------+---------+--------+----------+---------+-------+------------+--------+---------+---------+-----------------+--------+----------------+-------------------+--------+--------+-------------+-------------+---------+--------------+-------------------+-----------+-----------------+----+\n",
      "only showing top 20 rows"
     ]
    }
   ],
   "source": [
    "flights.show(truncate=True)"
   ]
  },
  {
   "cell_type": "code",
   "execution_count": 23,
   "id": "393ad7fe-9fe4-4efc-8e07-c8614e6c9266",
   "metadata": {
    "execution": {
     "iopub.execute_input": "2022-09-15T15:46:18.519500Z",
     "iopub.status.busy": "2022-09-15T15:46:18.519278Z",
     "iopub.status.idle": "2022-09-15T15:46:18.576980Z",
     "shell.execute_reply": "2022-09-15T15:46:18.576252Z",
     "shell.execute_reply.started": "2022-09-15T15:46:18.519476Z"
    },
    "tags": []
   },
   "outputs": [
    {
     "data": {
      "application/vnd.jupyter.widget-view+json": {
       "model_id": "93863d30474f4c998fab08d01fcfb1b0",
       "version_major": 2,
       "version_minor": 0
      },
      "text/plain": [
       "VBox()"
      ]
     },
     "metadata": {},
     "output_type": "display_data"
    },
    {
     "data": {
      "application/vnd.jupyter.widget-view+json": {
       "model_id": "",
       "version_major": 2,
       "version_minor": 0
      },
      "text/plain": [
       "FloatProgress(value=0.0, bar_style='info', description='Progress:', layout=Layout(height='25px', width='50%'),…"
      ]
     },
     "metadata": {},
     "output_type": "display_data"
    },
    {
     "name": "stdout",
     "output_type": "stream",
     "text": [
      "root\n",
      " |-- FL_DATE: string (nullable = true)\n",
      " |-- OP_CARRIER: string (nullable = true)\n",
      " |-- OP_CARRIER_FL_NUM: integer (nullable = true)\n",
      " |-- ORIGIN: string (nullable = true)\n",
      " |-- DEST: string (nullable = true)\n",
      " |-- CRS_DEP_TIME: integer (nullable = true)\n",
      " |-- DEP_TIME: double (nullable = true)\n",
      " |-- DEP_DELAY: double (nullable = true)\n",
      " |-- TAXI_OUT: double (nullable = true)\n",
      " |-- WHEELS_OFF: integer (nullable = true)\n",
      " |-- WHEELS_ON: double (nullable = true)\n",
      " |-- TAXI_IN: double (nullable = true)\n",
      " |-- CRS_ARR_TIME: double (nullable = true)\n",
      " |-- ARR_TIME: double (nullable = true)\n",
      " |-- ARR_DELAY: double (nullable = true)\n",
      " |-- CANCELLED: double (nullable = true)\n",
      " |-- CANCELLATION_CODE: double (nullable = true)\n",
      " |-- DIVERTED: double (nullable = true)\n",
      " |-- CRS_ELAPSED_TIME: double (nullable = true)\n",
      " |-- ACTUAL_ELAPSED_TIME: double (nullable = true)\n",
      " |-- AIR_TIME: string (nullable = true)\n",
      " |-- DISTANCE: string (nullable = true)\n",
      " |-- CARRIER_DELAY: string (nullable = true)\n",
      " |-- WEATHER_DELAY: string (nullable = true)\n",
      " |-- NAS_DELAY: string (nullable = true)\n",
      " |-- SECURITY_DELAY: string (nullable = true)\n",
      " |-- LATE_AIRCRAFT_DELAY: string (nullable = true)\n",
      " |-- Unnamed: 27: string (nullable = true)\n",
      " |-- OP_UNIQUE_CARRIER: string (nullable = true)\n",
      " |-- _c20: string (nullable = true)"
     ]
    }
   ],
   "source": [
    "flights.printSchema()"
   ]
  },
  {
   "cell_type": "code",
   "execution_count": 4,
   "id": "db11232f-239f-4e07-850e-fb6568afc628",
   "metadata": {
    "execution": {
     "iopub.execute_input": "2022-09-15T15:08:10.850847Z",
     "iopub.status.busy": "2022-09-15T15:08:10.850618Z",
     "iopub.status.idle": "2022-09-15T15:08:10.920132Z",
     "shell.execute_reply": "2022-09-15T15:08:10.919471Z",
     "shell.execute_reply.started": "2022-09-15T15:08:10.850823Z"
    },
    "tags": []
   },
   "outputs": [
    {
     "data": {
      "application/vnd.jupyter.widget-view+json": {
       "model_id": "36478996522c44358373232688720306",
       "version_major": 2,
       "version_minor": 0
      },
      "text/plain": [
       "VBox()"
      ]
     },
     "metadata": {},
     "output_type": "display_data"
    },
    {
     "data": {
      "application/vnd.jupyter.widget-view+json": {
       "model_id": "",
       "version_major": 2,
       "version_minor": 0
      },
      "text/plain": [
       "FloatProgress(value=0.0, bar_style='info', description='Progress:', layout=Layout(height='25px', width='50%'),…"
      ]
     },
     "metadata": {},
     "output_type": "display_data"
    },
    {
     "name": "stdout",
     "output_type": "stream",
     "text": [
      "root\n",
      " |-- FL_DATE: string (nullable = true)\n",
      " |-- OP_CARRIER: string (nullable = true)\n",
      " |-- OP_CARRIER_FL_NUM: integer (nullable = true)\n",
      " |-- ORIGIN: string (nullable = true)\n",
      " |-- DEST: string (nullable = true)\n",
      " |-- CRS_DEP_TIME: integer (nullable = true)\n",
      " |-- DEP_TIME: double (nullable = true)\n",
      " |-- DEP_DELAY: double (nullable = true)\n",
      " |-- TAXI_OUT: integer (nullable = true)\n",
      " |-- WHEELS_OFF: integer (nullable = true)\n",
      " |-- WHEELS_ON: double (nullable = true)\n",
      " |-- TAXI_IN: integer (nullable = true)\n",
      " |-- CRS_ARR_TIME: double (nullable = true)\n",
      " |-- ARR_TIME: double (nullable = true)\n",
      " |-- ARR_DELAY: double (nullable = true)\n",
      " |-- CANCELLED: double (nullable = true)\n",
      " |-- CANCELLATION_CODE: double (nullable = true)\n",
      " |-- DIVERTED: double (nullable = true)\n",
      " |-- CRS_ELAPSED_TIME: double (nullable = true)\n",
      " |-- ACTUAL_ELAPSED_TIME: double (nullable = true)\n",
      " |-- AIR_TIME: string (nullable = true)\n",
      " |-- DISTANCE: string (nullable = true)\n",
      " |-- CARRIER_DELAY: string (nullable = true)\n",
      " |-- WEATHER_DELAY: string (nullable = true)\n",
      " |-- NAS_DELAY: string (nullable = true)\n",
      " |-- SECURITY_DELAY: string (nullable = true)\n",
      " |-- LATE_AIRCRAFT_DELAY: string (nullable = true)\n",
      " |-- Unnamed: 27: string (nullable = true)"
     ]
    }
   ],
   "source": [
    "flights20.printSchema()"
   ]
  }
 ],
 "metadata": {
  "kernelspec": {
   "display_name": "PySpark",
   "language": "",
   "name": "pysparkkernel"
  },
  "language_info": {
   "codemirror_mode": {
    "name": "python",
    "version": 3
   },
   "file_extension": ".py",
   "mimetype": "text/x-python",
   "name": "pyspark",
   "pygments_lexer": "python3"
  }
 },
 "nbformat": 4,
 "nbformat_minor": 5
}
