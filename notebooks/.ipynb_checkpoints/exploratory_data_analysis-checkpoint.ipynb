{
 "cells": [
  {
   "cell_type": "markdown",
   "id": "8a95404c-198d-4f91-b988-092a8cf7694f",
   "metadata": {},
   "source": [
    "## Setup"
   ]
  },
  {
   "cell_type": "markdown",
   "id": "209e07c0-2457-48dd-8f54-302c0006d7be",
   "metadata": {},
   "source": [
    "Install matplotlib (if running in a new cluster)"
   ]
  },
  {
   "cell_type": "code",
   "execution_count": 4,
   "id": "b0ade76a-4234-40e8-a53c-a33f8cf9469a",
   "metadata": {
    "execution": {
     "iopub.execute_input": "2022-09-20T14:01:11.712364Z",
     "iopub.status.busy": "2022-09-20T14:01:11.712126Z",
     "iopub.status.idle": "2022-09-20T14:01:25.484852Z",
     "shell.execute_reply": "2022-09-20T14:01:25.484135Z",
     "shell.execute_reply.started": "2022-09-20T14:01:11.712339Z"
    },
    "tags": []
   },
   "outputs": [
    {
     "name": "stdout",
     "output_type": "stream",
     "text": [
      "Collecting package metadata (current_repodata.json): done\n",
      "Solving environment: done\n",
      "\n",
      "\n",
      "==> WARNING: A newer version of conda exists. <==\n",
      "  current version: 4.7.12\n",
      "  latest version: 4.14.0\n",
      "\n",
      "Please update conda by running\n",
      "\n",
      "    $ conda update -n base -c defaults conda\n",
      "\n",
      "\n",
      "\n",
      "## Package Plan ##\n",
      "\n",
      "  environment location: /mnt/notebook-env\n",
      "\n",
      "  added / updated specs:\n",
      "    - matplotlib\n",
      "\n",
      "\n",
      "The following NEW packages will be INSTALLED:\n",
      "\n",
      "  cycler             conda-forge/noarch::cycler-0.11.0-pyhd8ed1ab_0\n",
      "  icu                conda-forge/linux-64::icu-67.1-he1b5a44_0\n",
      "  kiwisolver         pkgs/main/linux-64::kiwisolver-1.4.2-py37h295c915_0\n",
      "  matplotlib         conda-forge/linux-64::matplotlib-3.2.2-1\n",
      "  matplotlib-base    conda-forge/linux-64::matplotlib-base-3.2.2-py37h1d35a4c_1\n",
      "  python_abi         conda-forge/linux-64::python_abi-3.7-2_cp37m\n",
      "\n",
      "The following packages will be UPDATED:\n",
      "\n",
      "  ca-certificates    pkgs/main::ca-certificates-2022.4.26-~ --> conda-forge::ca-certificates-2022.9.14-ha878542_0\n",
      "  certifi            pkgs/main/linux-64::certifi-2022.5.18~ --> conda-forge/noarch::certifi-2022.9.14-pyhd8ed1ab_0\n",
      "\n",
      "The following packages will be SUPERSEDED by a higher-priority channel:\n",
      "\n",
      "  openssl              pkgs/main::openssl-1.1.1o-h7f8727e_0 --> conda-forge::openssl-1.1.1l-h7f98852_0\n",
      "\n",
      "\n",
      "Preparing transaction: done\n",
      "Verifying transaction: failed\n",
      "\n",
      "EnvironmentNotWritableError: The current user does not have write permissions to the target environment.\n",
      "  environment location: /mnt/notebook-env\n",
      "  uid: 1001\n",
      "  gid: 1002\n",
      "\n",
      "\n",
      "\n",
      "Note: you may need to restart the kernel to use updated packages.\n"
     ]
    }
   ],
   "source": [
    "%%local\n",
    "conda install matplotlib"
   ]
  },
  {
   "cell_type": "markdown",
   "id": "327640fc-51f1-47fa-b8fb-ed7dea5eb4b8",
   "metadata": {},
   "source": [
    "Import local libraries"
   ]
  },
  {
   "cell_type": "code",
   "execution_count": 2,
   "id": "8969ba80-fdd9-4e3a-8d27-ad7148353eb4",
   "metadata": {
    "execution": {
     "iopub.execute_input": "2022-09-20T13:59:54.581902Z",
     "iopub.status.busy": "2022-09-20T13:59:54.581656Z",
     "iopub.status.idle": "2022-09-20T13:59:54.586582Z",
     "shell.execute_reply": "2022-09-20T13:59:54.585749Z",
     "shell.execute_reply.started": "2022-09-20T13:59:54.581878Z"
    },
    "tags": []
   },
   "outputs": [],
   "source": [
    "%%local\n",
    "%matplotlib inline\n",
    "import pandas\n",
    "import matplotlib.pyplot as plt"
   ]
  },
  {
   "cell_type": "markdown",
   "id": "5100fcdc-5efc-47ba-8484-5a1bed867b22",
   "metadata": {},
   "source": [
    "**IF THE ABOVE WORKS, DELETE NEXT BLOCK**"
   ]
  },
  {
   "cell_type": "code",
   "execution_count": null,
   "id": "8abe7ee4-b0c4-4b8c-9e20-b9c5d1dad0f9",
   "metadata": {},
   "outputs": [
    {
     "name": "stdout",
     "output_type": "stream",
     "text": [
      "Starting Spark application\n"
     ]
    },
    {
     "data": {
      "text/html": [
       "<table>\n",
       "<tbody><tr><th>ID</th><th>YARN Application ID</th><th>Kind</th><th>State</th><th>Spark UI</th><th>Driver log</th><th>User</th><th>Current session?</th></tr><tr><td>1</td><td>application_1663677222878_0002</td><td>pyspark</td><td>idle</td><td><a target=\"_blank\" href=\"http://ip-172-31-7-155.ec2.internal:20888/proxy/application_1663677222878_0002/\" class=\"emr-proxy-link j-1L1LEOXONE7K0 application_1663677222878_0002\" emr-resource=\"j-1L1LEOXONE7K0\n",
       "\" application-id=\"application_1663677222878_0002\">Link</a></td><td><a target=\"_blank\" href=\"http://ip-172-31-6-156.ec2.internal:8042/node/containerlogs/container_1663677222878_0002_01_000001/livy\">Link</a></td><td>None</td><td>✔</td></tr></tbody></table>"
      ],
      "text/plain": [
       "<IPython.core.display.HTML object>"
      ]
     },
     "metadata": {},
     "output_type": "display_data"
    },
    {
     "data": {
      "application/vnd.jupyter.widget-view+json": {
       "model_id": "",
       "version_major": 2,
       "version_minor": 0
      },
      "text/plain": [
       "FloatProgress(value=0.0, bar_style='info', description='Progress:', layout=Layout(height='25px', width='50%'),…"
      ]
     },
     "metadata": {},
     "output_type": "display_data"
    },
    {
     "name": "stdout",
     "output_type": "stream",
     "text": [
      "SparkSession available as 'spark'.\n"
     ]
    },
    {
     "data": {
      "text/html": [
       "Current session configs: <tt>{'conf': {'spark.pyspark.python': 'python3', 'spark.pyspark.virtualenv.enabled': 'true', 'spark.pyspark.virtualenv.type': 'native', 'spark.pyspark.virtualenv.bin.path': '/usr/bin/virtualenv'}, 'proxyUser': 'assumed-role_EMRStudio_User_Role_ramirocadavid', 'kind': 'pyspark'}</tt><br>"
      ],
      "text/plain": [
       "<IPython.core.display.HTML object>"
      ]
     },
     "metadata": {},
     "output_type": "display_data"
    },
    {
     "data": {
      "text/html": [
       "<table>\n",
       "<tbody><tr><th>ID</th><th>YARN Application ID</th><th>Kind</th><th>State</th><th>Spark UI</th><th>Driver log</th><th>User</th><th>Current session?</th></tr><tr><td>1</td><td>application_1663677222878_0002</td><td>pyspark</td><td>idle</td><td><a target=\"_blank\" href=\"http://ip-172-31-7-155.ec2.internal:20888/proxy/application_1663677222878_0002/\" class=\"emr-proxy-link j-1L1LEOXONE7K0 application_1663677222878_0002\" emr-resource=\"j-1L1LEOXONE7K0\n",
       "\" application-id=\"application_1663677222878_0002\">Link</a></td><td><a target=\"_blank\" href=\"http://ip-172-31-6-156.ec2.internal:8042/node/containerlogs/container_1663677222878_0002_01_000001/livy\">Link</a></td><td>None</td><td>✔</td></tr></tbody></table>"
      ],
      "text/plain": [
       "<IPython.core.display.HTML object>"
      ]
     },
     "metadata": {},
     "output_type": "display_data"
    }
   ],
   "source": [
    "%%configure -f\n",
    "{ \"conf\":{\n",
    "\"spark.pyspark.python\": \"python3\",\n",
    "\"spark.pyspark.virtualenv.enabled\": \"true\",\n",
    "\"spark.pyspark.virtualenv.type\":\"native\",\n",
    "\"spark.pyspark.virtualenv.bin.path\":\"/usr/bin/virtualenv\"\n",
    "}}"
   ]
  },
  {
   "cell_type": "markdown",
   "id": "1d665ae3-082a-41e3-b441-89117bb0dc1b",
   "metadata": {},
   "source": [
    "## Exploratory Data Analysis"
   ]
  },
  {
   "cell_type": "markdown",
   "id": "e87af0eb-7563-4cae-b02b-601d1170c9ef",
   "metadata": {},
   "source": [
    "Import and union datasets"
   ]
  },
  {
   "cell_type": "code",
   "execution_count": 55,
   "id": "c0a771cb-17d4-4203-a450-98899ea66658",
   "metadata": {
    "execution": {
     "iopub.execute_input": "2022-09-20T13:49:20.840913Z",
     "iopub.status.busy": "2022-09-20T13:49:20.840682Z",
     "iopub.status.idle": "2022-09-20T13:49:56.253628Z",
     "shell.execute_reply": "2022-09-20T13:49:56.253003Z",
     "shell.execute_reply.started": "2022-09-20T13:49:20.840888Z"
    },
    "tags": []
   },
   "outputs": [
    {
     "data": {
      "application/vnd.jupyter.widget-view+json": {
       "model_id": "29072ec7989f4b93862a283549ee655b",
       "version_major": 2,
       "version_minor": 0
      },
      "text/plain": [
       "VBox()"
      ]
     },
     "metadata": {},
     "output_type": "display_data"
    },
    {
     "data": {
      "application/vnd.jupyter.widget-view+json": {
       "model_id": "",
       "version_major": 2,
       "version_minor": 0
      },
      "text/plain": [
       "FloatProgress(value=0.0, bar_style='info', description='Progress:', layout=Layout(height='25px', width='50%'),…"
      ]
     },
     "metadata": {},
     "output_type": "display_data"
    }
   ],
   "source": [
    "s3bucket = \"emr-studio-dependencies-emrstudiostoragebucket-ao238o5o20gv\"\n",
    "files_uri = \"s3://\" + s3bucket + \"/flights-data/\"\n",
    "\n",
    "flights20 = spark.read.csv(files_uri + \"2020.csv\", inferSchema=True, header=True)\n",
    "flights19 = spark.read.csv(files_uri + \"2019.csv\", inferSchema=True, header=True)\n",
    "\n",
    "flights = flights20.unionByName(flights19, allowMissingColumns=True)\\\n",
    "                    .cache()"
   ]
  },
  {
   "cell_type": "markdown",
   "id": "64b80490-ba85-47dc-8f39-6c90023d7464",
   "metadata": {},
   "source": [
    "Preview data"
   ]
  },
  {
   "cell_type": "code",
   "execution_count": 30,
   "id": "4bffc49c-1595-4fcf-8602-0a2e76a2045e",
   "metadata": {
    "execution": {
     "iopub.execute_input": "2022-09-20T13:16:15.879901Z",
     "iopub.status.busy": "2022-09-20T13:16:15.879674Z",
     "iopub.status.idle": "2022-09-20T13:16:21.354813Z",
     "shell.execute_reply": "2022-09-20T13:16:21.354150Z",
     "shell.execute_reply.started": "2022-09-20T13:16:15.879877Z"
    },
    "tags": []
   },
   "outputs": [
    {
     "data": {
      "application/vnd.jupyter.widget-view+json": {
       "model_id": "",
       "version_major": 2,
       "version_minor": 0
      },
      "text/plain": [
       "FloatProgress(value=0.0, bar_style='info', description='Progress:', layout=Layout(height='25px', width='50%'),…"
      ]
     },
     "metadata": {},
     "output_type": "display_data"
    },
    {
     "data": {
      "application/vnd.jupyter.widget-view+json": {
       "model_id": "7ab12a685eea4b77b27b5c6b6b8bfd3e",
       "version_major": 2,
       "version_minor": 0
      },
      "text/plain": [
       "VBox(children=(HBox(children=(HTML(value='Type:'), Button(description='Table', layout=Layout(width='70px'), st…"
      ]
     },
     "metadata": {},
     "output_type": "display_data"
    },
    {
     "data": {
      "application/vnd.jupyter.widget-view+json": {
       "model_id": "27532a236f8c49cd89f0f3777ff50147",
       "version_major": 2,
       "version_minor": 0
      },
      "text/plain": [
       "Output()"
      ]
     },
     "metadata": {},
     "output_type": "display_data"
    }
   ],
   "source": [
    "%%display\n",
    "flights.sample(fraction=0.000001)"
   ]
  },
  {
   "cell_type": "markdown",
   "id": "c2bfdfb7-41f8-4f31-b9b8-f1f9d6b3beab",
   "metadata": {},
   "source": [
    "Print schema"
   ]
  },
  {
   "cell_type": "code",
   "execution_count": 23,
   "id": "a375ffe6-ecca-4149-b56e-aa2327a80568",
   "metadata": {
    "execution": {
     "iopub.execute_input": "2022-09-15T15:46:18.519500Z",
     "iopub.status.busy": "2022-09-15T15:46:18.519278Z",
     "iopub.status.idle": "2022-09-15T15:46:18.576980Z",
     "shell.execute_reply": "2022-09-15T15:46:18.576252Z",
     "shell.execute_reply.started": "2022-09-15T15:46:18.519476Z"
    },
    "tags": []
   },
   "outputs": [
    {
     "data": {
      "application/vnd.jupyter.widget-view+json": {
       "model_id": "93863d30474f4c998fab08d01fcfb1b0",
       "version_major": 2,
       "version_minor": 0
      },
      "text/plain": [
       "VBox()"
      ]
     },
     "metadata": {},
     "output_type": "display_data"
    },
    {
     "data": {
      "application/vnd.jupyter.widget-view+json": {
       "model_id": "",
       "version_major": 2,
       "version_minor": 0
      },
      "text/plain": [
       "FloatProgress(value=0.0, bar_style='info', description='Progress:', layout=Layout(height='25px', width='50%'),…"
      ]
     },
     "metadata": {},
     "output_type": "display_data"
    },
    {
     "name": "stdout",
     "output_type": "stream",
     "text": [
      "root\n",
      " |-- FL_DATE: string (nullable = true)\n",
      " |-- OP_CARRIER: string (nullable = true)\n",
      " |-- OP_CARRIER_FL_NUM: integer (nullable = true)\n",
      " |-- ORIGIN: string (nullable = true)\n",
      " |-- DEST: string (nullable = true)\n",
      " |-- CRS_DEP_TIME: integer (nullable = true)\n",
      " |-- DEP_TIME: double (nullable = true)\n",
      " |-- DEP_DELAY: double (nullable = true)\n",
      " |-- TAXI_OUT: double (nullable = true)\n",
      " |-- WHEELS_OFF: integer (nullable = true)\n",
      " |-- WHEELS_ON: double (nullable = true)\n",
      " |-- TAXI_IN: double (nullable = true)\n",
      " |-- CRS_ARR_TIME: double (nullable = true)\n",
      " |-- ARR_TIME: double (nullable = true)\n",
      " |-- ARR_DELAY: double (nullable = true)\n",
      " |-- CANCELLED: double (nullable = true)\n",
      " |-- CANCELLATION_CODE: double (nullable = true)\n",
      " |-- DIVERTED: double (nullable = true)\n",
      " |-- CRS_ELAPSED_TIME: double (nullable = true)\n",
      " |-- ACTUAL_ELAPSED_TIME: double (nullable = true)\n",
      " |-- AIR_TIME: string (nullable = true)\n",
      " |-- DISTANCE: string (nullable = true)\n",
      " |-- CARRIER_DELAY: string (nullable = true)\n",
      " |-- WEATHER_DELAY: string (nullable = true)\n",
      " |-- NAS_DELAY: string (nullable = true)\n",
      " |-- SECURITY_DELAY: string (nullable = true)\n",
      " |-- LATE_AIRCRAFT_DELAY: string (nullable = true)\n",
      " |-- Unnamed: 27: string (nullable = true)\n",
      " |-- OP_UNIQUE_CARRIER: string (nullable = true)\n",
      " |-- _c20: string (nullable = true)"
     ]
    }
   ],
   "source": [
    "flights.printSchema()"
   ]
  },
  {
   "cell_type": "markdown",
   "id": "aaef6d7d-c926-43d2-8fc0-1f432f2a1300",
   "metadata": {},
   "source": [
    "Describe data"
   ]
  },
  {
   "cell_type": "code",
   "execution_count": 57,
   "id": "a87dfa4d-1e6d-4906-bbb2-7846d1949ca7",
   "metadata": {
    "execution": {
     "iopub.execute_input": "2022-09-20T13:52:39.471446Z",
     "iopub.status.busy": "2022-09-20T13:52:39.471218Z",
     "iopub.status.idle": "2022-09-20T13:54:04.272333Z",
     "shell.execute_reply": "2022-09-20T13:54:04.271638Z",
     "shell.execute_reply.started": "2022-09-20T13:52:39.471422Z"
    },
    "tags": []
   },
   "outputs": [
    {
     "data": {
      "application/vnd.jupyter.widget-view+json": {
       "model_id": "",
       "version_major": 2,
       "version_minor": 0
      },
      "text/plain": [
       "FloatProgress(value=0.0, bar_style='info', description='Progress:', layout=Layout(height='25px', width='50%'),…"
      ]
     },
     "metadata": {},
     "output_type": "display_data"
    },
    {
     "data": {
      "application/vnd.jupyter.widget-view+json": {
       "model_id": "",
       "version_major": 2,
       "version_minor": 0
      },
      "text/plain": [
       "FloatProgress(value=0.0, bar_style='info', description='Progress:', layout=Layout(height='25px', width='50%'),…"
      ]
     },
     "metadata": {},
     "output_type": "display_data"
    }
   ],
   "source": [
    "%%spark -o flights_describe\n",
    "flights_describe = flights.describe()"
   ]
  }
 ],
 "metadata": {
  "kernelspec": {
   "display_name": "PySpark",
   "language": "python",
   "name": "pysparkkernel"
  },
  "language_info": {
   "codemirror_mode": {
    "name": "python",
    "version": 3
   },
   "file_extension": ".py",
   "mimetype": "text/x-python",
   "name": "pyspark",
   "pygments_lexer": "python3"
  }
 },
 "nbformat": 4,
 "nbformat_minor": 5
}
