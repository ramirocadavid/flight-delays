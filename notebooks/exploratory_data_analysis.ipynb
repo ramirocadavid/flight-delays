{
 "cells": [
  {
   "cell_type": "markdown",
   "id": "8a95404c-198d-4f91-b988-092a8cf7694f",
   "metadata": {},
   "source": [
    "## Setup"
   ]
  },
  {
   "cell_type": "markdown",
   "id": "209e07c0-2457-48dd-8f54-302c0006d7be",
   "metadata": {},
   "source": [
    "Install matplotlib (if running in a new cluster)"
   ]
  },
  {
   "cell_type": "code",
   "execution_count": 4,
   "id": "b0ade76a-4234-40e8-a53c-a33f8cf9469a",
   "metadata": {
    "execution": {
     "iopub.execute_input": "2022-09-20T14:01:11.712364Z",
     "iopub.status.busy": "2022-09-20T14:01:11.712126Z",
     "iopub.status.idle": "2022-09-20T14:01:25.484852Z",
     "shell.execute_reply": "2022-09-20T14:01:25.484135Z",
     "shell.execute_reply.started": "2022-09-20T14:01:11.712339Z"
    },
    "tags": []
   },
   "outputs": [
    {
     "name": "stdout",
     "output_type": "stream",
     "text": [
      "Collecting package metadata (current_repodata.json): done\n",
      "Solving environment: done\n",
      "\n",
      "\n",
      "==> WARNING: A newer version of conda exists. <==\n",
      "  current version: 4.7.12\n",
      "  latest version: 4.14.0\n",
      "\n",
      "Please update conda by running\n",
      "\n",
      "    $ conda update -n base -c defaults conda\n",
      "\n",
      "\n",
      "\n",
      "## Package Plan ##\n",
      "\n",
      "  environment location: /mnt/notebook-env\n",
      "\n",
      "  added / updated specs:\n",
      "    - matplotlib\n",
      "\n",
      "\n",
      "The following NEW packages will be INSTALLED:\n",
      "\n",
      "  cycler             conda-forge/noarch::cycler-0.11.0-pyhd8ed1ab_0\n",
      "  icu                conda-forge/linux-64::icu-67.1-he1b5a44_0\n",
      "  kiwisolver         pkgs/main/linux-64::kiwisolver-1.4.2-py37h295c915_0\n",
      "  matplotlib         conda-forge/linux-64::matplotlib-3.2.2-1\n",
      "  matplotlib-base    conda-forge/linux-64::matplotlib-base-3.2.2-py37h1d35a4c_1\n",
      "  python_abi         conda-forge/linux-64::python_abi-3.7-2_cp37m\n",
      "\n",
      "The following packages will be UPDATED:\n",
      "\n",
      "  ca-certificates    pkgs/main::ca-certificates-2022.4.26-~ --> conda-forge::ca-certificates-2022.9.14-ha878542_0\n",
      "  certifi            pkgs/main/linux-64::certifi-2022.5.18~ --> conda-forge/noarch::certifi-2022.9.14-pyhd8ed1ab_0\n",
      "\n",
      "The following packages will be SUPERSEDED by a higher-priority channel:\n",
      "\n",
      "  openssl              pkgs/main::openssl-1.1.1o-h7f8727e_0 --> conda-forge::openssl-1.1.1l-h7f98852_0\n",
      "\n",
      "\n",
      "Preparing transaction: done\n",
      "Verifying transaction: failed\n",
      "\n",
      "EnvironmentNotWritableError: The current user does not have write permissions to the target environment.\n",
      "  environment location: /mnt/notebook-env\n",
      "  uid: 1001\n",
      "  gid: 1002\n",
      "\n",
      "\n",
      "\n",
      "Note: you may need to restart the kernel to use updated packages.\n"
     ]
    }
   ],
   "source": [
    "%%local\n",
    "conda install matplotlib"
   ]
  },
  {
   "cell_type": "markdown",
   "id": "327640fc-51f1-47fa-b8fb-ed7dea5eb4b8",
   "metadata": {},
   "source": [
    "Import local libraries"
   ]
  },
  {
   "cell_type": "code",
   "execution_count": 2,
   "id": "8969ba80-fdd9-4e3a-8d27-ad7148353eb4",
   "metadata": {
    "execution": {
     "iopub.execute_input": "2022-09-20T13:59:54.581902Z",
     "iopub.status.busy": "2022-09-20T13:59:54.581656Z",
     "iopub.status.idle": "2022-09-20T13:59:54.586582Z",
     "shell.execute_reply": "2022-09-20T13:59:54.585749Z",
     "shell.execute_reply.started": "2022-09-20T13:59:54.581878Z"
    },
    "tags": []
   },
   "outputs": [],
   "source": [
    "%%local\n",
    "%matplotlib inline\n",
    "import pandas\n",
    "import matplotlib.pyplot as plt"
   ]
  },
  {
   "cell_type": "markdown",
   "id": "5100fcdc-5efc-47ba-8484-5a1bed867b22",
   "metadata": {},
   "source": [
    "**IF THE ABOVE WORKS, DELETE NEXT BLOCK**"
   ]
  },
  {
   "cell_type": "code",
   "execution_count": null,
   "id": "8abe7ee4-b0c4-4b8c-9e20-b9c5d1dad0f9",
   "metadata": {},
   "outputs": [
    {
     "name": "stdout",
     "output_type": "stream",
     "text": [
      "Starting Spark application\n"
     ]
    },
    {
     "data": {
      "text/html": [
       "<table>\n<tbody><tr><th>ID</th><th>YARN Application ID</th><th>Kind</th><th>State</th><th>Spark UI</th><th>Driver log</th><th>User</th><th>Current session?</th></tr><tr><td>1</td><td>application_1663677222878_0002</td><td>pyspark</td><td>idle</td><td><a target=\"_blank\" href=\"http://ip-172-31-7-155.ec2.internal:20888/proxy/application_1663677222878_0002/\" class=\"emr-proxy-link j-1L1LEOXONE7K0 application_1663677222878_0002\" emr-resource=\"j-1L1LEOXONE7K0\n\" application-id=\"application_1663677222878_0002\">Link</a></td><td><a target=\"_blank\" href=\"http://ip-172-31-6-156.ec2.internal:8042/node/containerlogs/container_1663677222878_0002_01_000001/livy\">Link</a></td><td>None</td><td>✔</td></tr></tbody></table>"
      ],
      "text/plain": [
       "<IPython.core.display.HTML object>"
      ]
     },
     "metadata": {},
     "output_type": "display_data"
    },
    {
     "data": {
      "application/vnd.jupyter.widget-view+json": {
       "model_id": "",
       "version_major": 2,
       "version_minor": 0
      },
      "text/plain": [
       "FloatProgress(value=0.0, bar_style='info', description='Progress:', layout=Layout(height='25px', width='50%'),…"
      ]
     },
     "metadata": {},
     "output_type": "display_data"
    },
    {
     "name": "stdout",
     "output_type": "stream",
     "text": [
      "SparkSession available as 'spark'.\n"
     ]
    },
    {
     "data": {
      "text/html": [
       "Current session configs: <tt>{'conf': {'spark.pyspark.python': 'python3', 'spark.pyspark.virtualenv.enabled': 'true', 'spark.pyspark.virtualenv.type': 'native', 'spark.pyspark.virtualenv.bin.path': '/usr/bin/virtualenv'}, 'proxyUser': 'assumed-role_EMRStudio_User_Role_ramirocadavid', 'kind': 'pyspark'}</tt><br>"
      ],
      "text/plain": [
       "<IPython.core.display.HTML object>"
      ]
     },
     "metadata": {},
     "output_type": "display_data"
    },
    {
     "data": {
      "text/html": [
       "<table>\n<tbody><tr><th>ID</th><th>YARN Application ID</th><th>Kind</th><th>State</th><th>Spark UI</th><th>Driver log</th><th>User</th><th>Current session?</th></tr><tr><td>1</td><td>application_1663677222878_0002</td><td>pyspark</td><td>idle</td><td><a target=\"_blank\" href=\"http://ip-172-31-7-155.ec2.internal:20888/proxy/application_1663677222878_0002/\" class=\"emr-proxy-link j-1L1LEOXONE7K0 application_1663677222878_0002\" emr-resource=\"j-1L1LEOXONE7K0\n\" application-id=\"application_1663677222878_0002\">Link</a></td><td><a target=\"_blank\" href=\"http://ip-172-31-6-156.ec2.internal:8042/node/containerlogs/container_1663677222878_0002_01_000001/livy\">Link</a></td><td>None</td><td>✔</td></tr></tbody></table>"
      ],
      "text/plain": [
       "<IPython.core.display.HTML object>"
      ]
     },
     "metadata": {},
     "output_type": "display_data"
    }
   ],
   "source": [
    "%%configure -f\n",
    "{ \"conf\":{\n",
    "\"spark.pyspark.python\": \"python3\",\n",
    "\"spark.pyspark.virtualenv.enabled\": \"true\",\n",
    "\"spark.pyspark.virtualenv.type\":\"native\",\n",
    "\"spark.pyspark.virtualenv.bin.path\":\"/usr/bin/virtualenv\"\n",
    "}}"
   ]
  },
  {
   "cell_type": "markdown",
   "id": "1d665ae3-082a-41e3-b441-89117bb0dc1b",
   "metadata": {},
   "source": [
    "## Exploratory Data Analysis"
   ]
  },
  {
   "cell_type": "markdown",
   "id": "e87af0eb-7563-4cae-b02b-601d1170c9ef",
   "metadata": {},
   "source": [
    "Import and union datasets"
   ]
  },
  {
   "cell_type": "code",
   "execution_count": 55,
   "id": "c0a771cb-17d4-4203-a450-98899ea66658",
   "metadata": {
    "execution": {
     "iopub.execute_input": "2022-09-20T13:49:20.840913Z",
     "iopub.status.busy": "2022-09-20T13:49:20.840682Z",
     "iopub.status.idle": "2022-09-20T13:49:56.253628Z",
     "shell.execute_reply": "2022-09-20T13:49:56.253003Z",
     "shell.execute_reply.started": "2022-09-20T13:49:20.840888Z"
    },
    "tags": []
   },
   "outputs": [
    {
     "data": {
      "application/vnd.jupyter.widget-view+json": {
       "model_id": "29072ec7989f4b93862a283549ee655b",
       "version_major": 2,
       "version_minor": 0
      },
      "text/plain": [
       "VBox()"
      ]
     },
     "metadata": {},
     "output_type": "display_data"
    },
    {
     "data": {
      "application/vnd.jupyter.widget-view+json": {
       "model_id": "",
       "version_major": 2,
       "version_minor": 0
      },
      "text/plain": [
       "FloatProgress(value=0.0, bar_style='info', description='Progress:', layout=Layout(height='25px', width='50%'),…"
      ]
     },
     "metadata": {},
     "output_type": "display_data"
    }
   ],
   "source": [
    "s3bucket = \"emr-studio-dependencies-emrstudiostoragebucket-ao238o5o20gv\"\n",
    "files_uri = \"s3://\" + s3bucket + \"/flights-data/\"\n",
    "\n",
    "flights20 = spark.read.csv(files_uri + \"2020.csv\", inferSchema=True, header=True)\n",
    "flights19 = spark.read.csv(files_uri + \"2019.csv\", inferSchema=True, header=True)\n",
    "\n",
    "flights = flights20.unionByName(flights19, allowMissingColumns=True)\\\n",
    "                    .cache()"
   ]
  },
  {
   "cell_type": "markdown",
   "id": "64b80490-ba85-47dc-8f39-6c90023d7464",
   "metadata": {},
   "source": [
    "Preview data"
   ]
  },
  {
   "cell_type": "code",
   "execution_count": 30,
   "id": "4bffc49c-1595-4fcf-8602-0a2e76a2045e",
   "metadata": {
    "execution": {
     "iopub.execute_input": "2022-09-20T13:16:15.879901Z",
     "iopub.status.busy": "2022-09-20T13:16:15.879674Z",
     "iopub.status.idle": "2022-09-20T13:16:21.354813Z",
     "shell.execute_reply": "2022-09-20T13:16:21.354150Z",
     "shell.execute_reply.started": "2022-09-20T13:16:15.879877Z"
    },
    "tags": []
   },
   "outputs": [
    {
     "data": {
      "application/vnd.jupyter.widget-view+json": {
       "model_id": "",
       "version_major": 2,
       "version_minor": 0
      },
      "text/plain": [
       "FloatProgress(value=0.0, bar_style='info', description='Progress:', layout=Layout(height='25px', width='50%'),…"
      ]
     },
     "metadata": {},
     "output_type": "display_data"
    },
    {
     "data": {
      "application/vnd.jupyter.widget-view+json": {
       "model_id": "7ab12a685eea4b77b27b5c6b6b8bfd3e",
       "version_major": 2,
       "version_minor": 0
      },
      "text/plain": [
       "VBox(children=(HBox(children=(HTML(value='Type:'), Button(description='Table', layout=Layout(width='70px'), st…"
      ]
     },
     "metadata": {},
     "output_type": "display_data"
    },
    {
     "data": {
      "application/vnd.jupyter.widget-view+json": {
       "model_id": "27532a236f8c49cd89f0f3777ff50147",
       "version_major": 2,
       "version_minor": 0
      },
      "text/plain": [
       "Output()"
      ]
     },
     "metadata": {},
     "output_type": "display_data"
    }
   ],
   "source": [
    "%%display\n",
    "flights.sample(fraction=0.000001)"
   ]
  },
  {
   "cell_type": "markdown",
   "id": "aaef6d7d-c926-43d2-8fc0-1f432f2a1300",
   "metadata": {},
   "source": [
    "Describe data"
   ]
  },
  {
   "cell_type": "code",
   "execution_count": 57,
   "id": "a87dfa4d-1e6d-4906-bbb2-7846d1949ca7",
   "metadata": {
    "execution": {
     "iopub.execute_input": "2022-09-20T13:52:39.471446Z",
     "iopub.status.busy": "2022-09-20T13:52:39.471218Z",
     "iopub.status.idle": "2022-09-20T13:54:04.272333Z",
     "shell.execute_reply": "2022-09-20T13:54:04.271638Z",
     "shell.execute_reply.started": "2022-09-20T13:52:39.471422Z"
    },
    "tags": []
   },
   "outputs": [
    {
     "data": {
      "application/vnd.jupyter.widget-view+json": {
       "model_id": "",
       "version_major": 2,
       "version_minor": 0
      },
      "text/plain": [
       "FloatProgress(value=0.0, bar_style='info', description='Progress:', layout=Layout(height='25px', width='50%'),…"
      ]
     },
     "metadata": {},
     "output_type": "display_data"
    },
    {
     "data": {
      "application/vnd.jupyter.widget-view+json": {
       "model_id": "",
       "version_major": 2,
       "version_minor": 0
      },
      "text/plain": [
       "FloatProgress(value=0.0, bar_style='info', description='Progress:', layout=Layout(height='25px', width='50%'),…"
      ]
     },
     "metadata": {},
     "output_type": "display_data"
    }
   ],
   "source": [
    "%%spark -o flights_describe\n",
    "flights_describe = flights.describe()"
   ]
  },
  {
   "cell_type": "code",
   "execution_count": 60,
   "id": "48d084e5-4850-4300-b8b2-aacc843cddb8",
   "metadata": {
    "execution": {
     "iopub.execute_input": "2022-09-20T13:54:46.054042Z",
     "iopub.status.busy": "2022-09-20T13:54:46.053811Z",
     "iopub.status.idle": "2022-09-20T13:54:46.059216Z",
     "shell.execute_reply": "2022-09-20T13:54:46.058632Z",
     "shell.execute_reply.started": "2022-09-20T13:54:46.054018Z"
    },
    "tags": []
   },
   "outputs": [
    {
     "data": {
      "text/plain": [
       "0     count\n",
       "1      mean\n",
       "2    stddev\n",
       "3       min\n",
       "4       max\n",
       "Name: summary, dtype: object"
      ]
     },
     "execution_count": 60,
     "metadata": {},
     "output_type": "execute_result"
    }
   ],
   "source": [
    "%%local\n",
    "flights_describe['summary']"
   ]
  },
  {
   "cell_type": "code",
   "execution_count": 33,
   "id": "c7a82354-0105-45b7-86e9-4ed87b8bac11",
   "metadata": {
    "execution": {
     "iopub.execute_input": "2022-09-20T13:20:14.516779Z",
     "iopub.status.busy": "2022-09-20T13:20:14.516406Z",
     "iopub.status.idle": "2022-09-20T13:21:34.124602Z",
     "shell.execute_reply": "2022-09-20T13:21:34.124017Z",
     "shell.execute_reply.started": "2022-09-20T13:20:14.516734Z"
    },
    "tags": []
   },
   "outputs": [
    {
     "data": {
      "application/vnd.jupyter.widget-view+json": {
       "model_id": "ffe6edf395a04d45b30da27187e99b9b",
       "version_major": 2,
       "version_minor": 0
      },
      "text/plain": [
       "VBox()"
      ]
     },
     "metadata": {},
     "output_type": "display_data"
    },
    {
     "data": {
      "application/vnd.jupyter.widget-view+json": {
       "model_id": "",
       "version_major": 2,
       "version_minor": 0
      },
      "text/plain": [
       "FloatProgress(value=0.0, bar_style='info', description='Progress:', layout=Layout(height='25px', width='50%'),…"
      ]
     },
     "metadata": {},
     "output_type": "display_data"
    }
   ],
   "source": [
    "flights.describe().createOrReplaceTempView(\"flights_desc\")"
   ]
  },
  {
   "cell_type": "code",
   "execution_count": 35,
   "id": "81176daa-1ddf-410c-ab99-fb26e2433c04",
   "metadata": {
    "execution": {
     "iopub.execute_input": "2022-09-20T13:22:30.533304Z",
     "iopub.status.busy": "2022-09-20T13:22:30.533051Z",
     "iopub.status.idle": "2022-09-20T13:22:31.505600Z",
     "shell.execute_reply": "2022-09-20T13:22:31.504911Z",
     "shell.execute_reply.started": "2022-09-20T13:22:30.533278Z"
    },
    "tags": []
   },
   "outputs": [
    {
     "data": {
      "application/vnd.jupyter.widget-view+json": {
       "model_id": "",
       "version_major": 2,
       "version_minor": 0
      },
      "text/plain": [
       "FloatProgress(value=0.0, bar_style='info', description='Progress:', layout=Layout(height='25px', width='50%'),…"
      ]
     },
     "metadata": {},
     "output_type": "display_data"
    },
    {
     "data": {
      "application/vnd.jupyter.widget-view+json": {
       "model_id": "5e1f4bb5731149cfa73dad34a8d0c319",
       "version_major": 2,
       "version_minor": 0
      },
      "text/plain": [
       "VBox(children=(HBox(children=(HTML(value='Type:'), Button(description='Table', layout=Layout(width='70px'), st…"
      ]
     },
     "metadata": {},
     "output_type": "display_data"
    },
    {
     "data": {
      "application/vnd.jupyter.widget-view+json": {
       "model_id": "0eaa6fdca9a7443b8007d069fb0c4066",
       "version_major": 2,
       "version_minor": 0
      },
      "text/plain": [
       "Output()"
      ]
     },
     "metadata": {},
     "output_type": "display_data"
    }
   ],
   "source": [
    "%%sql -o flights_desc\n",
    "SELECT * FROM flights_desc"
   ]
  },
  {
   "cell_type": "code",
   "execution_count": 39,
   "id": "d2e18578-5e6e-4efd-90ed-d6fac069580c",
   "metadata": {
    "execution": {
     "iopub.execute_input": "2022-09-20T13:23:41.050772Z",
     "iopub.status.busy": "2022-09-20T13:23:41.050511Z",
     "iopub.status.idle": "2022-09-20T13:23:41.062054Z",
     "shell.execute_reply": "2022-09-20T13:23:41.061023Z",
     "shell.execute_reply.started": "2022-09-20T13:23:41.050747Z"
    },
    "tags": []
   },
   "outputs": [
    {
     "ename": "ModuleNotFoundError",
     "evalue": "No module named 'matplotlib'",
     "output_type": "error",
     "traceback": [
      "\u001b[0;31m---------------------------------------------------------------------------\u001b[0m",
      "\u001b[0;31mModuleNotFoundError\u001b[0m                       Traceback (most recent call last)",
      "\u001b[0;32m<ipython-input-39-0a86e45e573e>\u001b[0m in \u001b[0;36m<module>\u001b[0;34m\u001b[0m\n\u001b[1;32m      1\u001b[0m \u001b[0;32mimport\u001b[0m \u001b[0mpandas\u001b[0m\u001b[0;34m\u001b[0m\u001b[0;34m\u001b[0m\u001b[0m\n\u001b[0;32m----> 2\u001b[0;31m \u001b[0;32mimport\u001b[0m \u001b[0mmatplotlib\u001b[0m\u001b[0;34m\u001b[0m\u001b[0;34m\u001b[0m\u001b[0m\n\u001b[0m\u001b[1;32m      3\u001b[0m \u001b[0mflights_desc\u001b[0m\u001b[0;34m.\u001b[0m\u001b[0mplot\u001b[0m\u001b[0;34m(\u001b[0m\u001b[0;34m)\u001b[0m\u001b[0;34m\u001b[0m\u001b[0;34m\u001b[0m\u001b[0m\n",
      "\u001b[0;31mModuleNotFoundError\u001b[0m: No module named 'matplotlib'"
     ]
    }
   ],
   "source": [
    "%%local\n",
    "import pandas\n",
    "import matplotlib\n",
    "flights_desc.plot()"
   ]
  },
  {
   "cell_type": "markdown",
   "id": "729fcef5-4687-48c0-b35d-a382f0a8bdb6",
   "metadata": {},
   "source": [
    "Print schema and sample of data"
   ]
  },
  {
   "cell_type": "code",
   "execution_count": 24,
   "id": "a5b166e4-6d1f-4ff0-9701-f3f85a33486f",
   "metadata": {
    "execution": {
     "iopub.execute_input": "2022-09-15T15:47:32.649585Z",
     "iopub.status.busy": "2022-09-15T15:47:32.649350Z",
     "iopub.status.idle": "2022-09-15T15:47:33.426034Z",
     "shell.execute_reply": "2022-09-15T15:47:33.425345Z",
     "shell.execute_reply.started": "2022-09-15T15:47:32.649559Z"
    },
    "tags": []
   },
   "outputs": [
    {
     "data": {
      "application/vnd.jupyter.widget-view+json": {
       "model_id": "ff9184d0d26e4127a8283af99ac0f6bc",
       "version_major": 2,
       "version_minor": 0
      },
      "text/plain": [
       "VBox()"
      ]
     },
     "metadata": {},
     "output_type": "display_data"
    },
    {
     "data": {
      "application/vnd.jupyter.widget-view+json": {
       "model_id": "",
       "version_major": 2,
       "version_minor": 0
      },
      "text/plain": [
       "FloatProgress(value=0.0, bar_style='info', description='Progress:', layout=Layout(height='25px', width='50%'),…"
      ]
     },
     "metadata": {},
     "output_type": "display_data"
    },
    {
     "name": "stdout",
     "output_type": "stream",
     "text": [
      "+----------+----------+-----------------+------+----+------------+--------+---------+--------+----------+---------+-------+------------+--------+---------+---------+-----------------+--------+----------------+-------------------+--------+--------+-------------+-------------+---------+--------------+-------------------+-----------+-----------------+----+\n",
      "|   FL_DATE|OP_CARRIER|OP_CARRIER_FL_NUM|ORIGIN|DEST|CRS_DEP_TIME|DEP_TIME|DEP_DELAY|TAXI_OUT|WHEELS_OFF|WHEELS_ON|TAXI_IN|CRS_ARR_TIME|ARR_TIME|ARR_DELAY|CANCELLED|CANCELLATION_CODE|DIVERTED|CRS_ELAPSED_TIME|ACTUAL_ELAPSED_TIME|AIR_TIME|DISTANCE|CARRIER_DELAY|WEATHER_DELAY|NAS_DELAY|SECURITY_DELAY|LATE_AIRCRAFT_DELAY|Unnamed: 27|OP_UNIQUE_CARRIER|_c20|\n",
      "+----------+----------+-----------------+------+----+------------+--------+---------+--------+----------+---------+-------+------------+--------+---------+---------+-----------------+--------+----------------+-------------------+--------+--------+-------------+-------------+---------+--------------+-------------------+-----------+-----------------+----+\n",
      "|2020-01-01|        WN|             5888|   ONT| SFO|        1851|    41.0|     44.0|  1935.0|      2049|      4.0| 2053.0|        68.0|    74.0|    363.0|      8.0|              0.0|    27.0|             0.0|               33.0|    null|    null|         null|         null|     null|          null|               null|       null|             null|null|\n",
      "|2020-01-01|        WN|             6276|   ONT| SFO|        1146|    -4.0|     13.0|  1159.0|      1310|      8.0| 1318.0|        -2.0|    71.0|    363.0|     null|             null|    null|            null|               null|    null|    null|         null|         null|     null|          null|               null|       null|             null|null|\n",
      "|2020-01-01|        WN|             4598|   ONT| SJC|        2016|    -4.0|      8.0|  2024.0|      2121|      3.0| 2124.0|        -6.0|    57.0|    333.0|     null|             null|    null|            null|               null|    null|    null|         null|         null|     null|          null|               null|       null|             null|null|\n",
      "|2020-01-01|        WN|             4761|   ONT| SJC|        1350|    10.0|     10.0|  1400.0|      1503|      2.0| 1505.0|        10.0|    63.0|    333.0|     null|             null|    null|            null|               null|    null|    null|         null|         null|     null|          null|               null|       null|             null|null|\n",
      "|2020-01-01|        WN|             5162|   ONT| SJC|         916|     1.0|      6.0|   922.0|      1019|      4.0| 1023.0|       -12.0|    57.0|    333.0|     null|             null|    null|            null|               null|    null|    null|         null|         null|     null|          null|               null|       null|             null|null|\n",
      "|2020-01-01|        WN|             5684|   ONT| SJC|         602|     2.0|     17.0|   619.0|       716|      6.0|  722.0|         7.0|    57.0|    333.0|     null|             null|    null|            null|               null|    null|    null|         null|         null|     null|          null|               null|       null|             null|null|\n",
      "|2020-01-01|        WN|             6152|   ONT| SJC|        1624|     4.0|      6.0|  1630.0|      1732|      4.0| 1736.0|        -4.0|    62.0|    333.0|     null|             null|    null|            null|               null|    null|    null|         null|         null|     null|          null|               null|       null|             null|null|\n",
      "|2020-01-01|        WN|             1679|   ONT| SMF|        1604|    59.0|      5.0|  1609.0|      1715|      2.0| 1717.0|        47.0|    66.0|    390.0|      0.0|              0.0|     0.0|             7.0|               40.0|    null|    null|         null|         null|     null|          null|               null|       null|             null|null|\n",
      "|2020-01-01|        WN|             3479|   ONT| SMF|        1225|    -5.0|      8.0|  1233.0|      1346|     19.0| 1405.0|        10.0|    73.0|    390.0|     null|             null|    null|            null|               null|    null|    null|         null|         null|     null|          null|               null|       null|             null|null|\n",
      "|2020-01-01|        WN|             4069|   ONT| SMF|         740|     0.0|      9.0|   749.0|       900|      4.0|  904.0|         4.0|    71.0|    390.0|     null|             null|    null|            null|               null|    null|    null|         null|         null|     null|          null|               null|       null|             null|null|\n",
      "|2020-01-01|        WN|             4905|   ONT| SMF|        1022|    -3.0|     11.0|  1033.0|      1144|      3.0| 1147.0|        -8.0|    71.0|    390.0|     null|             null|    null|            null|               null|    null|    null|         null|         null|     null|          null|               null|       null|             null|null|\n",
      "|2020-01-01|        WN|             4918|   ONT| SMF|        2035|    -5.0|      7.0|  2042.0|      2152|      5.0| 2157.0|         2.0|    70.0|    390.0|     null|             null|    null|            null|               null|    null|    null|         null|         null|     null|          null|               null|       null|             null|null|\n",
      "|2020-01-01|        WN|             5144|   ONT| SMF|        2246|    -4.0|     11.0|  2257.0|         3|      3.0|    6.0|         1.0|    66.0|    390.0|     null|             null|    null|            null|               null|    null|    null|         null|         null|     null|          null|               null|       null|             null|null|\n",
      "|2020-01-01|        WN|             5722|   ONT| SMF|        1815|     5.0|      6.0|  1821.0|      1926|      3.0| 1929.0|        -1.0|    65.0|    390.0|     null|             null|    null|            null|               null|    null|    null|         null|         null|     null|          null|               null|       null|             null|null|\n",
      "|2020-01-01|        WN|             3719|   ORF| BWI|        1230|    60.0|      8.0|  1238.0|      1314|      3.0| 1317.0|        42.0|    36.0|    159.0|      6.0|              0.0|     0.0|             0.0|               36.0|    null|    null|         null|         null|     null|          null|               null|       null|             null|null|\n",
      "|2020-01-01|        WN|             4863|   ORF| BWI|         629|    -1.0|      9.0|   638.0|       713|      2.0|  715.0|       -15.0|    35.0|    159.0|     null|             null|    null|            null|               null|    null|    null|         null|         null|     null|          null|               null|       null|             null|null|\n",
      "|2020-01-01|        WN|             4924|   ORF| BWI|        2013|    -7.0|      8.0|  2021.0|      2100|      2.0| 2102.0|       -18.0|    39.0|    159.0|     null|             null|    null|            null|               null|    null|    null|         null|         null|     null|          null|               null|       null|             null|null|\n",
      "|2020-01-01|        WN|             5321|   ORF| BWI|        1746|     1.0|     13.0|  1759.0|      1834|      4.0| 1838.0|       -17.0|    35.0|    159.0|     null|             null|    null|            null|               null|    null|    null|         null|         null|     null|          null|               null|       null|             null|null|\n",
      "|2020-01-01|        WN|             4618|   ORF| MCO|        1045|    -5.0|      8.0|  1053.0|      1234|      3.0| 1237.0|       -18.0|   101.0|    655.0|     null|             null|    null|            null|               null|    null|    null|         null|         null|     null|          null|               null|       null|             null|null|\n",
      "|2020-01-01|        WN|             5992|   ORF| MDW|        1649|    -1.0|      8.0|  1657.0|      1750|      4.0| 1754.0|       -16.0|   113.0|    704.0|     null|             null|    null|            null|               null|    null|    null|         null|         null|     null|          null|               null|       null|             null|null|\n",
      "+----------+----------+-----------------+------+----+------------+--------+---------+--------+----------+---------+-------+------------+--------+---------+---------+-----------------+--------+----------------+-------------------+--------+--------+-------------+-------------+---------+--------------+-------------------+-----------+-----------------+----+\n",
      "only showing top 20 rows"
     ]
    }
   ],
   "source": [
    "flights.show(truncate=True)"
   ]
  },
  {
   "cell_type": "code",
   "execution_count": 23,
   "id": "393ad7fe-9fe4-4efc-8e07-c8614e6c9266",
   "metadata": {
    "execution": {
     "iopub.execute_input": "2022-09-15T15:46:18.519500Z",
     "iopub.status.busy": "2022-09-15T15:46:18.519278Z",
     "iopub.status.idle": "2022-09-15T15:46:18.576980Z",
     "shell.execute_reply": "2022-09-15T15:46:18.576252Z",
     "shell.execute_reply.started": "2022-09-15T15:46:18.519476Z"
    },
    "tags": []
   },
   "outputs": [
    {
     "data": {
      "application/vnd.jupyter.widget-view+json": {
       "model_id": "93863d30474f4c998fab08d01fcfb1b0",
       "version_major": 2,
       "version_minor": 0
      },
      "text/plain": [
       "VBox()"
      ]
     },
     "metadata": {},
     "output_type": "display_data"
    },
    {
     "data": {
      "application/vnd.jupyter.widget-view+json": {
       "model_id": "",
       "version_major": 2,
       "version_minor": 0
      },
      "text/plain": [
       "FloatProgress(value=0.0, bar_style='info', description='Progress:', layout=Layout(height='25px', width='50%'),…"
      ]
     },
     "metadata": {},
     "output_type": "display_data"
    },
    {
     "name": "stdout",
     "output_type": "stream",
     "text": [
      "root\n",
      " |-- FL_DATE: string (nullable = true)\n",
      " |-- OP_CARRIER: string (nullable = true)\n",
      " |-- OP_CARRIER_FL_NUM: integer (nullable = true)\n",
      " |-- ORIGIN: string (nullable = true)\n",
      " |-- DEST: string (nullable = true)\n",
      " |-- CRS_DEP_TIME: integer (nullable = true)\n",
      " |-- DEP_TIME: double (nullable = true)\n",
      " |-- DEP_DELAY: double (nullable = true)\n",
      " |-- TAXI_OUT: double (nullable = true)\n",
      " |-- WHEELS_OFF: integer (nullable = true)\n",
      " |-- WHEELS_ON: double (nullable = true)\n",
      " |-- TAXI_IN: double (nullable = true)\n",
      " |-- CRS_ARR_TIME: double (nullable = true)\n",
      " |-- ARR_TIME: double (nullable = true)\n",
      " |-- ARR_DELAY: double (nullable = true)\n",
      " |-- CANCELLED: double (nullable = true)\n",
      " |-- CANCELLATION_CODE: double (nullable = true)\n",
      " |-- DIVERTED: double (nullable = true)\n",
      " |-- CRS_ELAPSED_TIME: double (nullable = true)\n",
      " |-- ACTUAL_ELAPSED_TIME: double (nullable = true)\n",
      " |-- AIR_TIME: string (nullable = true)\n",
      " |-- DISTANCE: string (nullable = true)\n",
      " |-- CARRIER_DELAY: string (nullable = true)\n",
      " |-- WEATHER_DELAY: string (nullable = true)\n",
      " |-- NAS_DELAY: string (nullable = true)\n",
      " |-- SECURITY_DELAY: string (nullable = true)\n",
      " |-- LATE_AIRCRAFT_DELAY: string (nullable = true)\n",
      " |-- Unnamed: 27: string (nullable = true)\n",
      " |-- OP_UNIQUE_CARRIER: string (nullable = true)\n",
      " |-- _c20: string (nullable = true)"
     ]
    }
   ],
   "source": [
    "flights.printSchema()"
   ]
  },
  {
   "cell_type": "code",
   "execution_count": 4,
   "id": "db11232f-239f-4e07-850e-fb6568afc628",
   "metadata": {
    "execution": {
     "iopub.execute_input": "2022-09-15T15:08:10.850847Z",
     "iopub.status.busy": "2022-09-15T15:08:10.850618Z",
     "iopub.status.idle": "2022-09-15T15:08:10.920132Z",
     "shell.execute_reply": "2022-09-15T15:08:10.919471Z",
     "shell.execute_reply.started": "2022-09-15T15:08:10.850823Z"
    },
    "tags": []
   },
   "outputs": [
    {
     "data": {
      "application/vnd.jupyter.widget-view+json": {
       "model_id": "36478996522c44358373232688720306",
       "version_major": 2,
       "version_minor": 0
      },
      "text/plain": [
       "VBox()"
      ]
     },
     "metadata": {},
     "output_type": "display_data"
    },
    {
     "data": {
      "application/vnd.jupyter.widget-view+json": {
       "model_id": "",
       "version_major": 2,
       "version_minor": 0
      },
      "text/plain": [
       "FloatProgress(value=0.0, bar_style='info', description='Progress:', layout=Layout(height='25px', width='50%'),…"
      ]
     },
     "metadata": {},
     "output_type": "display_data"
    },
    {
     "name": "stdout",
     "output_type": "stream",
     "text": [
      "root\n",
      " |-- FL_DATE: string (nullable = true)\n",
      " |-- OP_CARRIER: string (nullable = true)\n",
      " |-- OP_CARRIER_FL_NUM: integer (nullable = true)\n",
      " |-- ORIGIN: string (nullable = true)\n",
      " |-- DEST: string (nullable = true)\n",
      " |-- CRS_DEP_TIME: integer (nullable = true)\n",
      " |-- DEP_TIME: double (nullable = true)\n",
      " |-- DEP_DELAY: double (nullable = true)\n",
      " |-- TAXI_OUT: integer (nullable = true)\n",
      " |-- WHEELS_OFF: integer (nullable = true)\n",
      " |-- WHEELS_ON: double (nullable = true)\n",
      " |-- TAXI_IN: integer (nullable = true)\n",
      " |-- CRS_ARR_TIME: double (nullable = true)\n",
      " |-- ARR_TIME: double (nullable = true)\n",
      " |-- ARR_DELAY: double (nullable = true)\n",
      " |-- CANCELLED: double (nullable = true)\n",
      " |-- CANCELLATION_CODE: double (nullable = true)\n",
      " |-- DIVERTED: double (nullable = true)\n",
      " |-- CRS_ELAPSED_TIME: double (nullable = true)\n",
      " |-- ACTUAL_ELAPSED_TIME: double (nullable = true)\n",
      " |-- AIR_TIME: string (nullable = true)\n",
      " |-- DISTANCE: string (nullable = true)\n",
      " |-- CARRIER_DELAY: string (nullable = true)\n",
      " |-- WEATHER_DELAY: string (nullable = true)\n",
      " |-- NAS_DELAY: string (nullable = true)\n",
      " |-- SECURITY_DELAY: string (nullable = true)\n",
      " |-- LATE_AIRCRAFT_DELAY: string (nullable = true)\n",
      " |-- Unnamed: 27: string (nullable = true)"
     ]
    }
   ],
   "source": [
    "flights20.printSchema()"
   ]
  }
 ],
 "metadata": {
  "kernelspec": {
   "display_name": "PySpark",
   "language": "python",
   "name": "pysparkkernel"
  },
  "language_info": {
   "codemirror_mode": {
    "name": "python",
    "version": 3
   },
   "file_extension": ".py",
   "mimetype": "text/x-python",
   "name": "pyspark",
   "pygments_lexer": "python3"
  }
 },
 "nbformat": 4,
 "nbformat_minor": 5
}
